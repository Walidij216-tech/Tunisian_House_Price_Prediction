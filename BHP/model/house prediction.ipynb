{
 "cells": [
  {
   "cell_type": "code",
   "execution_count": 239,
   "id": "efc2e574",
   "metadata": {},
   "outputs": [],
   "source": [
    "import pandas as pd\n",
    "import numpy as np\n",
    "from matplotlib import pyplot as plt\n",
    "%matplotlib inline\n",
    "import matplotlib\n",
    "matplotlib.rcParams[\"figure.figsize\"]=(20,10)\n",
    "df1=pd.read_csv(\"Tunisian_House_Data.csv\")"
   ]
  },
  {
   "cell_type": "code",
   "execution_count": 240,
   "id": "fc14b060",
   "metadata": {},
   "outputs": [
    {
     "data": {
      "text/plain": [
       "array(['hammamet', 'mhamdya', 'siida', ..., 'manzah9', 'manzah8', 'Lac1'],\n",
       "      dtype=object)"
      ]
     },
     "execution_count": 240,
     "metadata": {},
     "output_type": "execute_result"
    }
   ],
   "source": [
    "df1.location.unique()"
   ]
  },
  {
   "cell_type": "code",
   "execution_count": 241,
   "id": "b3ff7729",
   "metadata": {},
   "outputs": [
    {
     "data": {
      "text/plain": [
       "(13320, 8)"
      ]
     },
     "execution_count": 241,
     "metadata": {},
     "output_type": "execute_result"
    }
   ],
   "source": [
    "df1.shape\n"
   ]
  },
  {
   "cell_type": "code",
   "execution_count": 242,
   "id": "263059ac",
   "metadata": {},
   "outputs": [
    {
     "data": {
      "text/plain": [
       "area_type\n",
       "Built-up  Area          2418\n",
       "Carpet  Area              87\n",
       "Plot  Area              2025\n",
       "Super built-up  Area    8790\n",
       "Name: area_type, dtype: int64"
      ]
     },
     "execution_count": 242,
     "metadata": {},
     "output_type": "execute_result"
    }
   ],
   "source": [
    "#area_type grouping\n",
    "df1.groupby('area_type')['area_type'].agg('count')"
   ]
  },
  {
   "cell_type": "code",
   "execution_count": 243,
   "id": "0e36587d",
   "metadata": {},
   "outputs": [
    {
     "data": {
      "text/html": [
       "<div>\n",
       "<style scoped>\n",
       "    .dataframe tbody tr th:only-of-type {\n",
       "        vertical-align: middle;\n",
       "    }\n",
       "\n",
       "    .dataframe tbody tr th {\n",
       "        vertical-align: top;\n",
       "    }\n",
       "\n",
       "    .dataframe thead th {\n",
       "        text-align: right;\n",
       "    }\n",
       "</style>\n",
       "<table border=\"1\" class=\"dataframe\">\n",
       "  <thead>\n",
       "    <tr style=\"text-align: right;\">\n",
       "      <th></th>\n",
       "      <th>location</th>\n",
       "      <th>size</th>\n",
       "      <th>bath</th>\n",
       "      <th>total_m2</th>\n",
       "      <th>price_mDT</th>\n",
       "    </tr>\n",
       "  </thead>\n",
       "  <tbody>\n",
       "    <tr>\n",
       "      <th>0</th>\n",
       "      <td>hammamet</td>\n",
       "      <td>2 BHK</td>\n",
       "      <td>2.0</td>\n",
       "      <td>98.1024</td>\n",
       "      <td>421.090504</td>\n",
       "    </tr>\n",
       "    <tr>\n",
       "      <th>1</th>\n",
       "      <td>mhamdya</td>\n",
       "      <td>4 Bedroom</td>\n",
       "      <td>5.0</td>\n",
       "      <td>241.5400</td>\n",
       "      <td>1293.341705</td>\n",
       "    </tr>\n",
       "    <tr>\n",
       "      <th>2</th>\n",
       "      <td>siida</td>\n",
       "      <td>3 BHK</td>\n",
       "      <td>2.0</td>\n",
       "      <td>133.7760</td>\n",
       "      <td>668.226548</td>\n",
       "    </tr>\n",
       "    <tr>\n",
       "      <th>3</th>\n",
       "      <td>aala</td>\n",
       "      <td>3 BHK</td>\n",
       "      <td>3.0</td>\n",
       "      <td>141.3009</td>\n",
       "      <td>1023.895517</td>\n",
       "    </tr>\n",
       "    <tr>\n",
       "      <th>4</th>\n",
       "      <td>kerouon sud</td>\n",
       "      <td>2 BHK</td>\n",
       "      <td>2.0</td>\n",
       "      <td>111.4800</td>\n",
       "      <td>549.670225</td>\n",
       "    </tr>\n",
       "  </tbody>\n",
       "</table>\n",
       "</div>"
      ],
      "text/plain": [
       "      location       size  bath  total_m2    price_mDT\n",
       "0     hammamet      2 BHK   2.0   98.1024   421.090504\n",
       "1      mhamdya  4 Bedroom   5.0  241.5400  1293.341705\n",
       "2        siida      3 BHK   2.0  133.7760   668.226548\n",
       "3         aala      3 BHK   3.0  141.3009  1023.895517\n",
       "4  kerouon sud      2 BHK   2.0  111.4800   549.670225"
      ]
     },
     "execution_count": 243,
     "metadata": {},
     "output_type": "execute_result"
    }
   ],
   "source": [
    "#next we moove to the data cleaning process\n",
    "#suppression of comlumns\n",
    "df2=df1.copy()\n",
    "df2=df1.drop(['area_type','balcony','availability'],axis='columns')\n",
    "df2.head()\n"
   ]
  },
  {
   "cell_type": "code",
   "execution_count": 244,
   "id": "7c0119e2",
   "metadata": {},
   "outputs": [
    {
     "data": {
      "text/plain": [
       "location      1\n",
       "size         16\n",
       "bath         73\n",
       "total_m2     46\n",
       "price_mDT     0\n",
       "dtype: int64"
      ]
     },
     "execution_count": 244,
     "metadata": {},
     "output_type": "execute_result"
    }
   ],
   "source": [
    "\n",
    "df2.isnull().sum()"
   ]
  },
  {
   "cell_type": "code",
   "execution_count": 245,
   "id": "5d4231d2",
   "metadata": {},
   "outputs": [
    {
     "data": {
      "text/plain": [
       "location     0\n",
       "size         0\n",
       "bath         0\n",
       "total_m2     0\n",
       "price_mDT    0\n",
       "dtype: int64"
      ]
     },
     "execution_count": 245,
     "metadata": {},
     "output_type": "execute_result"
    }
   ],
   "source": [
    "\n",
    "#drop any values(values with 0)\n",
    "df3=df2.copy()\n",
    "df3=df2.dropna()\n",
    "df3.isnull().sum()"
   ]
  },
  {
   "cell_type": "code",
   "execution_count": 246,
   "id": "0ef06903",
   "metadata": {},
   "outputs": [
    {
     "data": {
      "text/plain": [
       "(13200, 5)"
      ]
     },
     "execution_count": 246,
     "metadata": {},
     "output_type": "execute_result"
    }
   ],
   "source": [
    "df3.shape\n"
   ]
  },
  {
   "cell_type": "code",
   "execution_count": 247,
   "id": "367ffd56",
   "metadata": {},
   "outputs": [
    {
     "data": {
      "text/plain": [
       "array(['2 BHK', '4 Bedroom', '3 BHK', '4 BHK', '6 Bedroom', '3 Bedroom',\n",
       "       '1 BHK', '1 RK', '1 Bedroom', '8 Bedroom', '2 Bedroom',\n",
       "       '7 Bedroom', '5 BHK', '7 BHK', '6 BHK', '5 Bedroom', '11 BHK',\n",
       "       '9 BHK', '9 Bedroom', '27 BHK', '10 Bedroom', '11 Bedroom',\n",
       "       '10 BHK', '19 BHK', '16 BHK', '43 Bedroom', '14 BHK', '8 BHK',\n",
       "       '12 Bedroom', '13 BHK', '18 Bedroom'], dtype=object)"
      ]
     },
     "execution_count": 247,
     "metadata": {},
     "output_type": "execute_result"
    }
   ],
   "source": [
    "df3['size'].unique()"
   ]
  },
  {
   "cell_type": "code",
   "execution_count": 248,
   "id": "c1a13d8c",
   "metadata": {},
   "outputs": [
    {
     "name": "stderr",
     "output_type": "stream",
     "text": [
      "C:\\Users\\Walid\\AppData\\Local\\Temp\\ipykernel_12472\\717991322.py:2: SettingWithCopyWarning: \n",
      "A value is trying to be set on a copy of a slice from a DataFrame.\n",
      "Try using .loc[row_indexer,col_indexer] = value instead\n",
      "\n",
      "See the caveats in the documentation: https://pandas.pydata.org/pandas-docs/stable/user_guide/indexing.html#returning-a-view-versus-a-copy\n",
      "  df3['BHK']=df3['size'].apply(lambda x :int(x.split(' ')[0]))\n"
     ]
    }
   ],
   "source": [
    "#construction of a new colmumn in which contains the BHK values \n",
    "df3['BHK']=df3['size'].apply(lambda x :int(x.split(' ')[0]))"
   ]
  },
  {
   "cell_type": "code",
   "execution_count": 249,
   "id": "6732c766",
   "metadata": {},
   "outputs": [
    {
     "data": {
      "text/html": [
       "<div>\n",
       "<style scoped>\n",
       "    .dataframe tbody tr th:only-of-type {\n",
       "        vertical-align: middle;\n",
       "    }\n",
       "\n",
       "    .dataframe tbody tr th {\n",
       "        vertical-align: top;\n",
       "    }\n",
       "\n",
       "    .dataframe thead th {\n",
       "        text-align: right;\n",
       "    }\n",
       "</style>\n",
       "<table border=\"1\" class=\"dataframe\">\n",
       "  <thead>\n",
       "    <tr style=\"text-align: right;\">\n",
       "      <th></th>\n",
       "      <th>location</th>\n",
       "      <th>size</th>\n",
       "      <th>bath</th>\n",
       "      <th>total_m2</th>\n",
       "      <th>price_mDT</th>\n",
       "      <th>BHK</th>\n",
       "    </tr>\n",
       "  </thead>\n",
       "  <tbody>\n",
       "    <tr>\n",
       "      <th>0</th>\n",
       "      <td>hammamet</td>\n",
       "      <td>2 BHK</td>\n",
       "      <td>2.0</td>\n",
       "      <td>98.1024</td>\n",
       "      <td>421.090504</td>\n",
       "      <td>2</td>\n",
       "    </tr>\n",
       "    <tr>\n",
       "      <th>1</th>\n",
       "      <td>mhamdya</td>\n",
       "      <td>4 Bedroom</td>\n",
       "      <td>5.0</td>\n",
       "      <td>241.5400</td>\n",
       "      <td>1293.341705</td>\n",
       "      <td>4</td>\n",
       "    </tr>\n",
       "    <tr>\n",
       "      <th>2</th>\n",
       "      <td>siida</td>\n",
       "      <td>3 BHK</td>\n",
       "      <td>2.0</td>\n",
       "      <td>133.7760</td>\n",
       "      <td>668.226548</td>\n",
       "      <td>3</td>\n",
       "    </tr>\n",
       "    <tr>\n",
       "      <th>3</th>\n",
       "      <td>aala</td>\n",
       "      <td>3 BHK</td>\n",
       "      <td>3.0</td>\n",
       "      <td>141.3009</td>\n",
       "      <td>1023.895517</td>\n",
       "      <td>3</td>\n",
       "    </tr>\n",
       "    <tr>\n",
       "      <th>4</th>\n",
       "      <td>kerouon sud</td>\n",
       "      <td>2 BHK</td>\n",
       "      <td>2.0</td>\n",
       "      <td>111.4800</td>\n",
       "      <td>549.670225</td>\n",
       "      <td>2</td>\n",
       "    </tr>\n",
       "  </tbody>\n",
       "</table>\n",
       "</div>"
      ],
      "text/plain": [
       "      location       size  bath  total_m2    price_mDT  BHK\n",
       "0     hammamet      2 BHK   2.0   98.1024   421.090504    2\n",
       "1      mhamdya  4 Bedroom   5.0  241.5400  1293.341705    4\n",
       "2        siida      3 BHK   2.0  133.7760   668.226548    3\n",
       "3         aala      3 BHK   3.0  141.3009  1023.895517    3\n",
       "4  kerouon sud      2 BHK   2.0  111.4800   549.670225    2"
      ]
     },
     "execution_count": 249,
     "metadata": {},
     "output_type": "execute_result"
    }
   ],
   "source": [
    "df3.head()"
   ]
  },
  {
   "cell_type": "code",
   "execution_count": 250,
   "id": "66e0790e",
   "metadata": {},
   "outputs": [
    {
     "data": {
      "text/plain": [
       "array([ 2,  4,  3,  6,  1,  8,  7,  5, 11,  9, 27, 10, 19, 16, 43, 14, 12,\n",
       "       13, 18], dtype=int64)"
      ]
     },
     "execution_count": 250,
     "metadata": {},
     "output_type": "execute_result"
    }
   ],
   "source": [
    "df3['BHK'].unique()"
   ]
  },
  {
   "cell_type": "code",
   "execution_count": 251,
   "id": "88ff7918",
   "metadata": {},
   "outputs": [
    {
     "data": {
      "text/html": [
       "<div>\n",
       "<style scoped>\n",
       "    .dataframe tbody tr th:only-of-type {\n",
       "        vertical-align: middle;\n",
       "    }\n",
       "\n",
       "    .dataframe tbody tr th {\n",
       "        vertical-align: top;\n",
       "    }\n",
       "\n",
       "    .dataframe thead th {\n",
       "        text-align: right;\n",
       "    }\n",
       "</style>\n",
       "<table border=\"1\" class=\"dataframe\">\n",
       "  <thead>\n",
       "    <tr style=\"text-align: right;\">\n",
       "      <th></th>\n",
       "      <th>location</th>\n",
       "      <th>size</th>\n",
       "      <th>bath</th>\n",
       "      <th>total_m2</th>\n",
       "      <th>price_mDT</th>\n",
       "      <th>BHK</th>\n",
       "    </tr>\n",
       "  </thead>\n",
       "  <tbody>\n",
       "    <tr>\n",
       "      <th>1718</th>\n",
       "      <td>2ELECTRONIC CITY PHASE II</td>\n",
       "      <td>27 BHK</td>\n",
       "      <td>27.0</td>\n",
       "      <td>743.20</td>\n",
       "      <td>2478.904935</td>\n",
       "      <td>27</td>\n",
       "    </tr>\n",
       "    <tr>\n",
       "      <th>4684</th>\n",
       "      <td>dhahbya</td>\n",
       "      <td>43 Bedroom</td>\n",
       "      <td>40.0</td>\n",
       "      <td>222.96</td>\n",
       "      <td>7113.379378</td>\n",
       "      <td>43</td>\n",
       "    </tr>\n",
       "  </tbody>\n",
       "</table>\n",
       "</div>"
      ],
      "text/plain": [
       "                       location        size  bath  total_m2    price_mDT  BHK\n",
       "1718  2ELECTRONIC CITY PHASE II      27 BHK  27.0    743.20  2478.904935   27\n",
       "4684                    dhahbya  43 Bedroom  40.0    222.96  7113.379378   43"
      ]
     },
     "execution_count": 251,
     "metadata": {},
     "output_type": "execute_result"
    }
   ],
   "source": [
    "df3[df3.BHK>20]"
   ]
  },
  {
   "cell_type": "code",
   "execution_count": 252,
   "id": "525577b2",
   "metadata": {},
   "outputs": [
    {
     "data": {
      "text/plain": [
       "array([ 98.1024 , 241.54   , 133.776  , ..., 116.91465,  71.9046 ,\n",
       "       435.6081 ])"
      ]
     },
     "execution_count": 252,
     "metadata": {},
     "output_type": "execute_result"
    }
   ],
   "source": [
    "df3.total_m2.unique()"
   ]
  },
  {
   "cell_type": "code",
   "execution_count": 253,
   "id": "b6f0c3b3",
   "metadata": {},
   "outputs": [
    {
     "data": {
      "text/plain": [
       "location         fousena\n",
       "size               4 BHK\n",
       "bath                 4.0\n",
       "total_m2        229.9275\n",
       "price_mDT    2004.679643\n",
       "BHK                    4\n",
       "Name: 30, dtype: object"
      ]
     },
     "execution_count": 253,
     "metadata": {},
     "output_type": "execute_result"
    }
   ],
   "source": [
    "df4=df3.copy()\n",
    "df4.loc[30]"
   ]
  },
  {
   "cell_type": "code",
   "execution_count": 254,
   "id": "f78c7d34",
   "metadata": {},
   "outputs": [
    {
     "data": {
      "text/html": [
       "<div>\n",
       "<style scoped>\n",
       "    .dataframe tbody tr th:only-of-type {\n",
       "        vertical-align: middle;\n",
       "    }\n",
       "\n",
       "    .dataframe tbody tr th {\n",
       "        vertical-align: top;\n",
       "    }\n",
       "\n",
       "    .dataframe thead th {\n",
       "        text-align: right;\n",
       "    }\n",
       "</style>\n",
       "<table border=\"1\" class=\"dataframe\">\n",
       "  <thead>\n",
       "    <tr style=\"text-align: right;\">\n",
       "      <th></th>\n",
       "      <th>location</th>\n",
       "      <th>size</th>\n",
       "      <th>bath</th>\n",
       "      <th>total_m2</th>\n",
       "      <th>price_mDT</th>\n",
       "      <th>BHK</th>\n",
       "      <th>price_mDT_per_m2</th>\n",
       "    </tr>\n",
       "  </thead>\n",
       "  <tbody>\n",
       "    <tr>\n",
       "      <th>0</th>\n",
       "      <td>hammamet</td>\n",
       "      <td>2 BHK</td>\n",
       "      <td>2.0</td>\n",
       "      <td>98.1024</td>\n",
       "      <td>421.090504</td>\n",
       "      <td>2</td>\n",
       "      <td>4.292357</td>\n",
       "    </tr>\n",
       "    <tr>\n",
       "      <th>1</th>\n",
       "      <td>mhamdya</td>\n",
       "      <td>4 Bedroom</td>\n",
       "      <td>5.0</td>\n",
       "      <td>241.5400</td>\n",
       "      <td>1293.341705</td>\n",
       "      <td>4</td>\n",
       "      <td>5.354565</td>\n",
       "    </tr>\n",
       "    <tr>\n",
       "      <th>2</th>\n",
       "      <td>siida</td>\n",
       "      <td>3 BHK</td>\n",
       "      <td>2.0</td>\n",
       "      <td>133.7760</td>\n",
       "      <td>668.226548</td>\n",
       "      <td>3</td>\n",
       "      <td>4.995115</td>\n",
       "    </tr>\n",
       "    <tr>\n",
       "      <th>3</th>\n",
       "      <td>aala</td>\n",
       "      <td>3 BHK</td>\n",
       "      <td>3.0</td>\n",
       "      <td>141.3009</td>\n",
       "      <td>1023.895517</td>\n",
       "      <td>3</td>\n",
       "      <td>7.246207</td>\n",
       "    </tr>\n",
       "    <tr>\n",
       "      <th>4</th>\n",
       "      <td>kerouon sud</td>\n",
       "      <td>2 BHK</td>\n",
       "      <td>2.0</td>\n",
       "      <td>111.4800</td>\n",
       "      <td>549.670225</td>\n",
       "      <td>2</td>\n",
       "      <td>4.930662</td>\n",
       "    </tr>\n",
       "  </tbody>\n",
       "</table>\n",
       "</div>"
      ],
      "text/plain": [
       "      location       size  bath  total_m2    price_mDT  BHK  price_mDT_per_m2\n",
       "0     hammamet      2 BHK   2.0   98.1024   421.090504    2          4.292357\n",
       "1      mhamdya  4 Bedroom   5.0  241.5400  1293.341705    4          5.354565\n",
       "2        siida      3 BHK   2.0  133.7760   668.226548    3          4.995115\n",
       "3         aala      3 BHK   3.0  141.3009  1023.895517    3          7.246207\n",
       "4  kerouon sud      2 BHK   2.0  111.4800   549.670225    2          4.930662"
      ]
     },
     "execution_count": 254,
     "metadata": {},
     "output_type": "execute_result"
    }
   ],
   "source": [
    "#Feature engeneering\n",
    "df5=df4.copy()\n",
    "df5['price_mDT_per_m2']=df5['price_mDT']/df5['total_m2']\n",
    "df5.head()\n"
   ]
  },
  {
   "cell_type": "code",
   "execution_count": 255,
   "id": "6ad7b788",
   "metadata": {},
   "outputs": [
    {
     "data": {
      "text/html": [
       "<div>\n",
       "<style scoped>\n",
       "    .dataframe tbody tr th:only-of-type {\n",
       "        vertical-align: middle;\n",
       "    }\n",
       "\n",
       "    .dataframe tbody tr th {\n",
       "        vertical-align: top;\n",
       "    }\n",
       "\n",
       "    .dataframe thead th {\n",
       "        text-align: right;\n",
       "    }\n",
       "</style>\n",
       "<table border=\"1\" class=\"dataframe\">\n",
       "  <thead>\n",
       "    <tr style=\"text-align: right;\">\n",
       "      <th></th>\n",
       "      <th>location</th>\n",
       "      <th>size</th>\n",
       "      <th>bath</th>\n",
       "      <th>total_m2</th>\n",
       "      <th>price_mDT</th>\n",
       "      <th>BHK</th>\n",
       "      <th>price_mDT_per_m2</th>\n",
       "    </tr>\n",
       "  </thead>\n",
       "  <tbody>\n",
       "    <tr>\n",
       "      <th>0</th>\n",
       "      <td>hammamet</td>\n",
       "      <td>2 BHK</td>\n",
       "      <td>2.0</td>\n",
       "      <td>98.1024</td>\n",
       "      <td>421.090504</td>\n",
       "      <td>2</td>\n",
       "      <td>4.292357</td>\n",
       "    </tr>\n",
       "    <tr>\n",
       "      <th>1</th>\n",
       "      <td>mhamdya</td>\n",
       "      <td>4 Bedroom</td>\n",
       "      <td>5.0</td>\n",
       "      <td>241.5400</td>\n",
       "      <td>1293.341705</td>\n",
       "      <td>4</td>\n",
       "      <td>5.354565</td>\n",
       "    </tr>\n",
       "    <tr>\n",
       "      <th>2</th>\n",
       "      <td>siida</td>\n",
       "      <td>3 BHK</td>\n",
       "      <td>2.0</td>\n",
       "      <td>133.7760</td>\n",
       "      <td>668.226548</td>\n",
       "      <td>3</td>\n",
       "      <td>4.995115</td>\n",
       "    </tr>\n",
       "    <tr>\n",
       "      <th>3</th>\n",
       "      <td>aala</td>\n",
       "      <td>3 BHK</td>\n",
       "      <td>3.0</td>\n",
       "      <td>141.3009</td>\n",
       "      <td>1023.895517</td>\n",
       "      <td>3</td>\n",
       "      <td>7.246207</td>\n",
       "    </tr>\n",
       "    <tr>\n",
       "      <th>4</th>\n",
       "      <td>kerouon sud</td>\n",
       "      <td>2 BHK</td>\n",
       "      <td>2.0</td>\n",
       "      <td>111.4800</td>\n",
       "      <td>549.670225</td>\n",
       "      <td>2</td>\n",
       "      <td>4.930662</td>\n",
       "    </tr>\n",
       "  </tbody>\n",
       "</table>\n",
       "</div>"
      ],
      "text/plain": [
       "      location       size  bath  total_m2    price_mDT  BHK  price_mDT_per_m2\n",
       "0     hammamet      2 BHK   2.0   98.1024   421.090504    2          4.292357\n",
       "1      mhamdya  4 Bedroom   5.0  241.5400  1293.341705    4          5.354565\n",
       "2        siida      3 BHK   2.0  133.7760   668.226548    3          4.995115\n",
       "3         aala      3 BHK   3.0  141.3009  1023.895517    3          7.246207\n",
       "4  kerouon sud      2 BHK   2.0  111.4800   549.670225    2          4.930662"
      ]
     },
     "execution_count": 255,
     "metadata": {},
     "output_type": "execute_result"
    }
   ],
   "source": [
    "df6=df5.copy()\n",
    "df6.head()"
   ]
  },
  {
   "cell_type": "code",
   "execution_count": 256,
   "id": "a576f657",
   "metadata": {},
   "outputs": [
    {
     "data": {
      "text/plain": [
       "location\n",
       "hesi farid               532\n",
       "tela                     392\n",
       "l mida                   302\n",
       "aamdoun                  264\n",
       "bradeaa                  232\n",
       "                        ... \n",
       "T C PALYA MAIN ROAD        1\n",
       "T C PALYA                  1\n",
       "SURYANAGAR                 1\n",
       "LAKKASANDRA EXTENSION      1\n",
       "1 ANNASANDRAPALYA          1\n",
       "Name: location, Length: 1283, dtype: int64"
      ]
     },
     "execution_count": 256,
     "metadata": {},
     "output_type": "execute_result"
    }
   ],
   "source": [
    "df6.location=df6.location.apply(lambda x:x.strip())\n",
    "location_state=df6.groupby('location')['location'].agg('count').sort_values(ascending=False)\n",
    "location_state\n"
   ]
  },
  {
   "cell_type": "code",
   "execution_count": 257,
   "id": "fa4d43da",
   "metadata": {},
   "outputs": [
    {
     "data": {
      "text/plain": [
       "1045"
      ]
     },
     "execution_count": 257,
     "metadata": {},
     "output_type": "execute_result"
    }
   ],
   "source": [
    "location_state_less_than_10=location_state[location_state<=10]\n",
    "location_state_less_than_10\n",
    "len(location_state_less_than_10)\n"
   ]
  },
  {
   "cell_type": "code",
   "execution_count": 258,
   "id": "2d0b41f1",
   "metadata": {},
   "outputs": [
    {
     "data": {
      "text/plain": [
       "239"
      ]
     },
     "execution_count": 258,
     "metadata": {},
     "output_type": "execute_result"
    }
   ],
   "source": [
    "df6.location=df6.location.apply(lambda x :'other' if x in location_state_less_than_10 else x)\n",
    "len(df6.location.unique())"
   ]
  },
  {
   "cell_type": "code",
   "execution_count": 259,
   "id": "9b852c1a",
   "metadata": {},
   "outputs": [
    {
     "data": {
      "text/html": [
       "<div>\n",
       "<style scoped>\n",
       "    .dataframe tbody tr th:only-of-type {\n",
       "        vertical-align: middle;\n",
       "    }\n",
       "\n",
       "    .dataframe tbody tr th {\n",
       "        vertical-align: top;\n",
       "    }\n",
       "\n",
       "    .dataframe thead th {\n",
       "        text-align: right;\n",
       "    }\n",
       "</style>\n",
       "<table border=\"1\" class=\"dataframe\">\n",
       "  <thead>\n",
       "    <tr style=\"text-align: right;\">\n",
       "      <th></th>\n",
       "      <th>location</th>\n",
       "      <th>size</th>\n",
       "      <th>bath</th>\n",
       "      <th>total_m2</th>\n",
       "      <th>price_mDT</th>\n",
       "      <th>BHK</th>\n",
       "      <th>price_mDT_per_m2</th>\n",
       "    </tr>\n",
       "  </thead>\n",
       "  <tbody>\n",
       "    <tr>\n",
       "      <th>0</th>\n",
       "      <td>hammamet</td>\n",
       "      <td>2 BHK</td>\n",
       "      <td>2.0</td>\n",
       "      <td>98.1024</td>\n",
       "      <td>421.090504</td>\n",
       "      <td>2</td>\n",
       "      <td>4.292357</td>\n",
       "    </tr>\n",
       "    <tr>\n",
       "      <th>1</th>\n",
       "      <td>mhamdya</td>\n",
       "      <td>4 Bedroom</td>\n",
       "      <td>5.0</td>\n",
       "      <td>241.5400</td>\n",
       "      <td>1293.341705</td>\n",
       "      <td>4</td>\n",
       "      <td>5.354565</td>\n",
       "    </tr>\n",
       "    <tr>\n",
       "      <th>2</th>\n",
       "      <td>siida</td>\n",
       "      <td>3 BHK</td>\n",
       "      <td>2.0</td>\n",
       "      <td>133.7760</td>\n",
       "      <td>668.226548</td>\n",
       "      <td>3</td>\n",
       "      <td>4.995115</td>\n",
       "    </tr>\n",
       "    <tr>\n",
       "      <th>3</th>\n",
       "      <td>aala</td>\n",
       "      <td>3 BHK</td>\n",
       "      <td>3.0</td>\n",
       "      <td>141.3009</td>\n",
       "      <td>1023.895517</td>\n",
       "      <td>3</td>\n",
       "      <td>7.246207</td>\n",
       "    </tr>\n",
       "    <tr>\n",
       "      <th>4</th>\n",
       "      <td>kerouon sud</td>\n",
       "      <td>2 BHK</td>\n",
       "      <td>2.0</td>\n",
       "      <td>111.4800</td>\n",
       "      <td>549.670225</td>\n",
       "      <td>2</td>\n",
       "      <td>4.930662</td>\n",
       "    </tr>\n",
       "    <tr>\n",
       "      <th>5</th>\n",
       "      <td>hesi farid</td>\n",
       "      <td>2 BHK</td>\n",
       "      <td>2.0</td>\n",
       "      <td>108.6930</td>\n",
       "      <td>409.558207</td>\n",
       "      <td>2</td>\n",
       "      <td>3.768027</td>\n",
       "    </tr>\n",
       "    <tr>\n",
       "      <th>6</th>\n",
       "      <td>sidi ali ben oun</td>\n",
       "      <td>4 BHK</td>\n",
       "      <td>4.0</td>\n",
       "      <td>253.8028</td>\n",
       "      <td>2198.680899</td>\n",
       "      <td>4</td>\n",
       "      <td>8.662950</td>\n",
       "    </tr>\n",
       "    <tr>\n",
       "      <th>7</th>\n",
       "      <td>fawar</td>\n",
       "      <td>4 BHK</td>\n",
       "      <td>4.0</td>\n",
       "      <td>306.5700</td>\n",
       "      <td>6466.708526</td>\n",
       "      <td>4</td>\n",
       "      <td>21.093742</td>\n",
       "    </tr>\n",
       "    <tr>\n",
       "      <th>8</th>\n",
       "      <td>kalaa khasba</td>\n",
       "      <td>3 BHK</td>\n",
       "      <td>3.0</td>\n",
       "      <td>121.6990</td>\n",
       "      <td>681.698857</td>\n",
       "      <td>3</td>\n",
       "      <td>5.601516</td>\n",
       "    </tr>\n",
       "    <tr>\n",
       "      <th>9</th>\n",
       "      <td>other</td>\n",
       "      <td>6 Bedroom</td>\n",
       "      <td>6.0</td>\n",
       "      <td>94.7580</td>\n",
       "      <td>3987.803591</td>\n",
       "      <td>6</td>\n",
       "      <td>42.084084</td>\n",
       "    </tr>\n",
       "  </tbody>\n",
       "</table>\n",
       "</div>"
      ],
      "text/plain": [
       "           location       size  bath  total_m2    price_mDT  BHK  \\\n",
       "0          hammamet      2 BHK   2.0   98.1024   421.090504    2   \n",
       "1           mhamdya  4 Bedroom   5.0  241.5400  1293.341705    4   \n",
       "2             siida      3 BHK   2.0  133.7760   668.226548    3   \n",
       "3              aala      3 BHK   3.0  141.3009  1023.895517    3   \n",
       "4       kerouon sud      2 BHK   2.0  111.4800   549.670225    2   \n",
       "5        hesi farid      2 BHK   2.0  108.6930   409.558207    2   \n",
       "6  sidi ali ben oun      4 BHK   4.0  253.8028  2198.680899    4   \n",
       "7             fawar      4 BHK   4.0  306.5700  6466.708526    4   \n",
       "8      kalaa khasba      3 BHK   3.0  121.6990   681.698857    3   \n",
       "9             other  6 Bedroom   6.0   94.7580  3987.803591    6   \n",
       "\n",
       "   price_mDT_per_m2  \n",
       "0          4.292357  \n",
       "1          5.354565  \n",
       "2          4.995115  \n",
       "3          7.246207  \n",
       "4          4.930662  \n",
       "5          3.768027  \n",
       "6          8.662950  \n",
       "7         21.093742  \n",
       "8          5.601516  \n",
       "9         42.084084  "
      ]
     },
     "execution_count": 259,
     "metadata": {},
     "output_type": "execute_result"
    }
   ],
   "source": [
    "df6.head(10)"
   ]
  },
  {
   "cell_type": "code",
   "execution_count": 260,
   "id": "8230f530",
   "metadata": {},
   "outputs": [
    {
     "data": {
      "text/html": [
       "<div>\n",
       "<style scoped>\n",
       "    .dataframe tbody tr th:only-of-type {\n",
       "        vertical-align: middle;\n",
       "    }\n",
       "\n",
       "    .dataframe tbody tr th {\n",
       "        vertical-align: top;\n",
       "    }\n",
       "\n",
       "    .dataframe thead th {\n",
       "        text-align: right;\n",
       "    }\n",
       "</style>\n",
       "<table border=\"1\" class=\"dataframe\">\n",
       "  <thead>\n",
       "    <tr style=\"text-align: right;\">\n",
       "      <th></th>\n",
       "      <th>location</th>\n",
       "      <th>size</th>\n",
       "      <th>bath</th>\n",
       "      <th>total_m2</th>\n",
       "      <th>price_mDT</th>\n",
       "      <th>BHK</th>\n",
       "      <th>price_mDT_per_m2</th>\n",
       "    </tr>\n",
       "  </thead>\n",
       "  <tbody>\n",
       "    <tr>\n",
       "      <th>9</th>\n",
       "      <td>other</td>\n",
       "      <td>6 Bedroom</td>\n",
       "      <td>6.0</td>\n",
       "      <td>94.7580</td>\n",
       "      <td>3987.803591</td>\n",
       "      <td>6</td>\n",
       "      <td>42.084084</td>\n",
       "    </tr>\n",
       "    <tr>\n",
       "      <th>45</th>\n",
       "      <td>benzert sud</td>\n",
       "      <td>8 Bedroom</td>\n",
       "      <td>9.0</td>\n",
       "      <td>55.7400</td>\n",
       "      <td>2155.569509</td>\n",
       "      <td>8</td>\n",
       "      <td>38.671861</td>\n",
       "    </tr>\n",
       "    <tr>\n",
       "      <th>58</th>\n",
       "      <td>tataouin sud</td>\n",
       "      <td>6 Bedroom</td>\n",
       "      <td>4.0</td>\n",
       "      <td>130.7103</td>\n",
       "      <td>1616.677131</td>\n",
       "      <td>6</td>\n",
       "      <td>12.368399</td>\n",
       "    </tr>\n",
       "    <tr>\n",
       "      <th>68</th>\n",
       "      <td>other</td>\n",
       "      <td>8 Bedroom</td>\n",
       "      <td>7.0</td>\n",
       "      <td>125.4150</td>\n",
       "      <td>916.117041</td>\n",
       "      <td>8</td>\n",
       "      <td>7.304685</td>\n",
       "    </tr>\n",
       "    <tr>\n",
       "      <th>70</th>\n",
       "      <td>other</td>\n",
       "      <td>3 Bedroom</td>\n",
       "      <td>3.0</td>\n",
       "      <td>46.4500</td>\n",
       "      <td>1077.784754</td>\n",
       "      <td>3</td>\n",
       "      <td>23.203116</td>\n",
       "    </tr>\n",
       "  </tbody>\n",
       "</table>\n",
       "</div>"
      ],
      "text/plain": [
       "        location       size  bath  total_m2    price_mDT  BHK  \\\n",
       "9          other  6 Bedroom   6.0   94.7580  3987.803591    6   \n",
       "45   benzert sud  8 Bedroom   9.0   55.7400  2155.569509    8   \n",
       "58  tataouin sud  6 Bedroom   4.0  130.7103  1616.677131    6   \n",
       "68         other  8 Bedroom   7.0  125.4150   916.117041    8   \n",
       "70         other  3 Bedroom   3.0   46.4500  1077.784754    3   \n",
       "\n",
       "    price_mDT_per_m2  \n",
       "9          42.084084  \n",
       "45         38.671861  \n",
       "58         12.368399  \n",
       "68          7.304685  \n",
       "70         23.203116  "
      ]
     },
     "execution_count": 260,
     "metadata": {},
     "output_type": "execute_result"
    }
   ],
   "source": [
    "#outlier removal\n",
    "#a bedroom must be around 300 sqft(27,871 m2) so we remove the bedrooms with aera less than 27,871\n",
    "df6[df6.total_m2/df6.BHK<27.871].head()"
   ]
  },
  {
   "cell_type": "code",
   "execution_count": 261,
   "id": "e7021fa7",
   "metadata": {},
   "outputs": [
    {
     "data": {
      "text/plain": [
       "(13200, 7)"
      ]
     },
     "execution_count": 261,
     "metadata": {},
     "output_type": "execute_result"
    }
   ],
   "source": [
    "df6.shape"
   ]
  },
  {
   "cell_type": "code",
   "execution_count": 262,
   "id": "d9999225",
   "metadata": {},
   "outputs": [
    {
     "data": {
      "text/plain": [
       "(12274, 7)"
      ]
     },
     "execution_count": 262,
     "metadata": {},
     "output_type": "execute_result"
    }
   ],
   "source": [
    "df7=df6.copy()\n",
    "df7=df6[~(df6.total_m2/df6.BHK<27.871)]\n",
    "df7.shape"
   ]
  },
  {
   "cell_type": "code",
   "execution_count": 263,
   "id": "3ff11f5b",
   "metadata": {},
   "outputs": [
    {
     "data": {
      "text/plain": [
       "count    12274.000000\n",
       "mean         7.206749\n",
       "std          4.702361\n",
       "min          0.310724\n",
       "25%          4.872654\n",
       "50%          6.106083\n",
       "75%          7.918614\n",
       "max        204.733380\n",
       "Name: price_mDT_per_m2, dtype: float64"
      ]
     },
     "execution_count": 263,
     "metadata": {},
     "output_type": "execute_result"
    }
   ],
   "source": [
    "df7.price_mDT_per_m2.describe()"
   ]
  },
  {
   "cell_type": "code",
   "execution_count": 264,
   "id": "106f253c",
   "metadata": {},
   "outputs": [],
   "source": [
    "#we try to remove the anormal prices(like 0.096;63,64) by creating this function\n",
    "def remove_pps_outliers(df):\n",
    "    df_out=pd.DataFrame()\n",
    "    for key,subdf in df.groupby('location'):\n",
    "        m=np.mean(subdf.price_mDT_per_m2)\n",
    "        st=np.std(subdf.price_mDT_per_m2)\n",
    "        reduced_df=subdf[(subdf.price_mDT_per_m2>(m-st))&(subdf.price_mDT_per_m2<=(st+m))]\n",
    "        df_out=pd.concat([df_out,reduced_df],ignore_index=True)\n",
    "    return df_out\n",
    "    \n"
   ]
  },
  {
   "cell_type": "code",
   "execution_count": 265,
   "id": "f31ace3d",
   "metadata": {},
   "outputs": [
    {
     "data": {
      "text/plain": [
       "(10012, 7)"
      ]
     },
     "execution_count": 265,
     "metadata": {},
     "output_type": "execute_result"
    }
   ],
   "source": [
    "df8=df7.copy()\n",
    "df8=remove_pps_outliers(df7)\n",
    "df8.shape"
   ]
  },
  {
   "cell_type": "code",
   "execution_count": 266,
   "id": "80825b0c",
   "metadata": {},
   "outputs": [
    {
     "data": {
      "image/png": "[encoded data removed]",
      "text/plain": [
       "<Figure size 1500x1000 with 1 Axes>"
      ]
     },
     "metadata": {},
     "output_type": "display_data"
    }
   ],
   "source": [
    "#function that plots houses with 2 and 3 bedrooms\n",
    "def plot_scatter_chart(df,location):\n",
    "    bhk2 = df[(df.location==location) & (df.BHK==2)]\n",
    "    bhk3 = df[(df.location==location) & (df.BHK==3)]\n",
    "    matplotlib.rcParams['figure.figsize'] = (15,10)\n",
    "    plt.scatter(bhk2.total_m2,bhk2.price_mDT,color='blue',label='2 BHK', s=50)\n",
    "    plt.scatter(bhk3.total_m2,bhk3.price_mDT,marker='+', color='green',label='3 BHK', s=50)\n",
    "    plt.xlabel(\"Total Square Meter Area\")\n",
    "    plt.ylabel(\"Price (Dinar Tunisian Rupees)\")\n",
    "    plt.title(location)\n",
    "    plt.legend()\n",
    "    \n",
    "plot_scatter_chart(df8,\"jarzouna\")"
   ]
  },
  {
   "cell_type": "code",
   "execution_count": 267,
   "id": "725d17cd",
   "metadata": {},
   "outputs": [
    {
     "data": {
      "text/plain": [
       "(7160, 7)"
      ]
     },
     "execution_count": 267,
     "metadata": {},
     "output_type": "execute_result"
    }
   ],
   "source": [
    "#we create a function in which we remove the houses with 2 bedrooms which less than the mean of houses with 1 bedrooms with the same area squre meter\n",
    "def remove_bhk_outliers(df):\n",
    "    exclude_indices = np.array([])\n",
    "    for location, location_df in df.groupby('location'):\n",
    "        bhk_stats = {}\n",
    "        for bhk, bhk_df in location_df.groupby('BHK'):\n",
    "            bhk_stats[bhk] = {\n",
    "                'mean': np.mean(bhk_df.price_mDT_per_m2),\n",
    "                'std': np.std(bhk_df.price_mDT_per_m2),\n",
    "                'count': bhk_df.shape[0]\n",
    "            }\n",
    "        for bhk, bhk_df in location_df.groupby('BHK'):\n",
    "            stats = bhk_stats.get(bhk-1)\n",
    "            if stats and stats['count']>5:\n",
    "                exclude_indices = np.append(exclude_indices, bhk_df[bhk_df.price_mDT_per_m2<(stats['mean'])].index.values)\n",
    "    return df.drop(exclude_indices,axis='index')\n",
    "df9=df8.copy()\n",
    "df9 = remove_bhk_outliers(df8)\n",
    "# df8 = df7.copy()\n",
    "df9.shape\n"
   ]
  },
  {
   "cell_type": "code",
   "execution_count": 268,
   "id": "ebf55983",
   "metadata": {},
   "outputs": [
    {
     "data": {
      "image/png": "[encoded data removed]",
      "text/plain": [
       "<Figure size 1500x1000 with 1 Axes>"
      ]
     },
     "metadata": {},
     "output_type": "display_data"
    }
   ],
   "source": [
    "plot_scatter_chart(df9,\"jarzouna\")\n",
    "#as we can see the 3 bedrooms appartments in the same area squre meter as the 2 bedrooms appartments were removed"
   ]
  },
  {
   "cell_type": "code",
   "execution_count": 269,
   "id": "60252a1f",
   "metadata": {},
   "outputs": [
    {
     "data": {
      "text/plain": [
       "Text(0, 0.5, 'Count')"
      ]
     },
     "execution_count": 269,
     "metadata": {},
     "output_type": "execute_result"
    },
    {
     "data": {
      "image/png": "[encoded data removed]",
      "text/plain": [
       "<Figure size 2000x1000 with 1 Axes>"
      ]
     },
     "metadata": {},
     "output_type": "display_data"
    }
   ],
   "source": [
    "import matplotlib\n",
    "matplotlib.rcParams[\"figure.figsize\"] = (20,10)\n",
    "plt.hist(df9.price_mDT_per_m2,rwidth=0.8)\n",
    "plt.xlabel(\"Price Per Square Meter\")\n",
    "plt.ylabel(\"Count\")"
   ]
  },
  {
   "cell_type": "code",
   "execution_count": 270,
   "id": "5300f547",
   "metadata": {},
   "outputs": [
    {
     "data": {
      "text/plain": [
       "array([ 2.,  3.,  4.,  1.,  6.,  5.,  8.,  7., 12.,  9., 16., 13.])"
      ]
     },
     "execution_count": 270,
     "metadata": {},
     "output_type": "execute_result"
    }
   ],
   "source": [
    "df9.bath.unique()"
   ]
  },
  {
   "cell_type": "code",
   "execution_count": 271,
   "id": "c61a7158",
   "metadata": {},
   "outputs": [
    {
     "data": {
      "text/html": [
       "<div>\n",
       "<style scoped>\n",
       "    .dataframe tbody tr th:only-of-type {\n",
       "        vertical-align: middle;\n",
       "    }\n",
       "\n",
       "    .dataframe tbody tr th {\n",
       "        vertical-align: top;\n",
       "    }\n",
       "\n",
       "    .dataframe thead th {\n",
       "        text-align: right;\n",
       "    }\n",
       "</style>\n",
       "<table border=\"1\" class=\"dataframe\">\n",
       "  <thead>\n",
       "    <tr style=\"text-align: right;\">\n",
       "      <th></th>\n",
       "      <th>location</th>\n",
       "      <th>size</th>\n",
       "      <th>bath</th>\n",
       "      <th>total_m2</th>\n",
       "      <th>price_mDT</th>\n",
       "      <th>BHK</th>\n",
       "      <th>price_mDT_per_m2</th>\n",
       "    </tr>\n",
       "  </thead>\n",
       "  <tbody>\n",
       "    <tr>\n",
       "      <th>3485</th>\n",
       "      <td>jelma</td>\n",
       "      <td>10 BHK</td>\n",
       "      <td>12.0</td>\n",
       "      <td>371.6000</td>\n",
       "      <td>1724.455607</td>\n",
       "      <td>10</td>\n",
       "      <td>4.640623</td>\n",
       "    </tr>\n",
       "    <tr>\n",
       "      <th>6254</th>\n",
       "      <td>other</td>\n",
       "      <td>10 BHK</td>\n",
       "      <td>12.0</td>\n",
       "      <td>1114.8000</td>\n",
       "      <td>5658.369960</td>\n",
       "      <td>10</td>\n",
       "      <td>5.075682</td>\n",
       "    </tr>\n",
       "    <tr>\n",
       "      <th>6339</th>\n",
       "      <td>other</td>\n",
       "      <td>16 BHK</td>\n",
       "      <td>16.0</td>\n",
       "      <td>929.0000</td>\n",
       "      <td>5927.816149</td>\n",
       "      <td>16</td>\n",
       "      <td>6.380857</td>\n",
       "    </tr>\n",
       "    <tr>\n",
       "      <th>7059</th>\n",
       "      <td>other</td>\n",
       "      <td>11 BHK</td>\n",
       "      <td>12.0</td>\n",
       "      <td>557.4000</td>\n",
       "      <td>1616.677131</td>\n",
       "      <td>11</td>\n",
       "      <td>2.900390</td>\n",
       "    </tr>\n",
       "    <tr>\n",
       "      <th>7385</th>\n",
       "      <td>other</td>\n",
       "      <td>13 BHK</td>\n",
       "      <td>13.0</td>\n",
       "      <td>503.9825</td>\n",
       "      <td>2963.908074</td>\n",
       "      <td>13</td>\n",
       "      <td>5.880974</td>\n",
       "    </tr>\n",
       "  </tbody>\n",
       "</table>\n",
       "</div>"
      ],
      "text/plain": [
       "     location    size  bath   total_m2    price_mDT  BHK  price_mDT_per_m2\n",
       "3485    jelma  10 BHK  12.0   371.6000  1724.455607   10          4.640623\n",
       "6254    other  10 BHK  12.0  1114.8000  5658.369960   10          5.075682\n",
       "6339    other  16 BHK  16.0   929.0000  5927.816149   16          6.380857\n",
       "7059    other  11 BHK  12.0   557.4000  1616.677131   11          2.900390\n",
       "7385    other  13 BHK  13.0   503.9825  2963.908074   13          5.880974"
      ]
     },
     "execution_count": 271,
     "metadata": {},
     "output_type": "execute_result"
    }
   ],
   "source": [
    "df9[df9.bath>10]"
   ]
  },
  {
   "cell_type": "code",
   "execution_count": 272,
   "id": "4df55fde",
   "metadata": {},
   "outputs": [
    {
     "data": {
      "text/plain": [
       "Text(0, 0.5, 'Count')"
      ]
     },
     "execution_count": 272,
     "metadata": {},
     "output_type": "execute_result"
    },
    {
     "data": {
      "image/png": "[encoded data removed]",
      "text/plain": [
       "<Figure size 2000x1000 with 1 Axes>"
      ]
     },
     "metadata": {},
     "output_type": "display_data"
    }
   ],
   "source": [
    "plt.hist(df9.bath,rwidth=0.8)\n",
    "plt.xlabel(\"Number of bathrooms\")\n",
    "plt.ylabel(\"Count\")"
   ]
  },
  {
   "cell_type": "code",
   "execution_count": 273,
   "id": "607e1c7f",
   "metadata": {},
   "outputs": [
    {
     "data": {
      "text/html": [
       "<div>\n",
       "<style scoped>\n",
       "    .dataframe tbody tr th:only-of-type {\n",
       "        vertical-align: middle;\n",
       "    }\n",
       "\n",
       "    .dataframe tbody tr th {\n",
       "        vertical-align: top;\n",
       "    }\n",
       "\n",
       "    .dataframe thead th {\n",
       "        text-align: right;\n",
       "    }\n",
       "</style>\n",
       "<table border=\"1\" class=\"dataframe\">\n",
       "  <thead>\n",
       "    <tr style=\"text-align: right;\">\n",
       "      <th></th>\n",
       "      <th>location</th>\n",
       "      <th>size</th>\n",
       "      <th>bath</th>\n",
       "      <th>total_m2</th>\n",
       "      <th>price_mDT</th>\n",
       "      <th>BHK</th>\n",
       "      <th>price_mDT_per_m2</th>\n",
       "    </tr>\n",
       "  </thead>\n",
       "  <tbody>\n",
       "    <tr>\n",
       "      <th>585</th>\n",
       "      <td>awled hafouz</td>\n",
       "      <td>4 Bedroom</td>\n",
       "      <td>8.0</td>\n",
       "      <td>650.3000</td>\n",
       "      <td>4850.031394</td>\n",
       "      <td>4</td>\n",
       "      <td>7.458145</td>\n",
       "    </tr>\n",
       "    <tr>\n",
       "      <th>1355</th>\n",
       "      <td>bradeaa</td>\n",
       "      <td>3 BHK</td>\n",
       "      <td>6.0</td>\n",
       "      <td>167.7774</td>\n",
       "      <td>1250.230315</td>\n",
       "      <td>3</td>\n",
       "      <td>7.451721</td>\n",
       "    </tr>\n",
       "    <tr>\n",
       "      <th>5514</th>\n",
       "      <td>mourouj</td>\n",
       "      <td>4 Bedroom</td>\n",
       "      <td>7.0</td>\n",
       "      <td>228.5340</td>\n",
       "      <td>862.227803</td>\n",
       "      <td>4</td>\n",
       "      <td>3.772864</td>\n",
       "    </tr>\n",
       "    <tr>\n",
       "      <th>6179</th>\n",
       "      <td>other</td>\n",
       "      <td>6 BHK</td>\n",
       "      <td>9.0</td>\n",
       "      <td>1053.3002</td>\n",
       "      <td>10777.847540</td>\n",
       "      <td>6</td>\n",
       "      <td>10.232456</td>\n",
       "    </tr>\n",
       "  </tbody>\n",
       "</table>\n",
       "</div>"
      ],
      "text/plain": [
       "          location       size  bath   total_m2     price_mDT  BHK  \\\n",
       "585   awled hafouz  4 Bedroom   8.0   650.3000   4850.031394    4   \n",
       "1355       bradeaa      3 BHK   6.0   167.7774   1250.230315    3   \n",
       "5514       mourouj  4 Bedroom   7.0   228.5340    862.227803    4   \n",
       "6179         other      6 BHK   9.0  1053.3002  10777.847540    6   \n",
       "\n",
       "      price_mDT_per_m2  \n",
       "585           7.458145  \n",
       "1355          7.451721  \n",
       "5514          3.772864  \n",
       "6179         10.232456  "
      ]
     },
     "execution_count": 273,
     "metadata": {},
     "output_type": "execute_result"
    }
   ],
   "source": [
    "#we are going to remove the appartments that have a number of bedrooms freater than the number of bedrooms +2\n",
    "df9[df9.bath>df9.BHK+2]"
   ]
  },
  {
   "cell_type": "code",
   "execution_count": 274,
   "id": "b891047d",
   "metadata": {},
   "outputs": [
    {
     "data": {
      "text/plain": [
       "(7084, 7)"
      ]
     },
     "execution_count": 274,
     "metadata": {},
     "output_type": "execute_result"
    }
   ],
   "source": [
    "df10=df9.copy()\n",
    "df10=df9[df9.bath<df9.BHK +2]\n",
    "df10.shape"
   ]
  },
  {
   "cell_type": "code",
   "execution_count": 296,
   "id": "d454af00",
   "metadata": {},
   "outputs": [
    {
     "data": {
      "text/plain": [
       "array(['Lac2', 'aala', 'aalia', 'aamdoun', 'aamra', 'aarousa', 'akareb',\n",
       "       'akouda', 'ariana lemdina', 'ariana soghra', 'awled chemekh',\n",
       "       'awled hafouz', 'bardo', 'bargo', 'beb bhar', 'beb jdid',\n",
       "       'beb swika', 'beja nord', 'beja sud', 'ben arous', 'ben guerden',\n",
       "       'beni khaled', 'beni khiar', 'benzert nord', 'benzert sud',\n",
       "       'bir hafye', 'bir lahmer', 'bir macherka', 'borj cedria',\n",
       "       'borj l emri', 'bou arada', 'bou hajla', 'bouaarkoub', 'bouficha',\n",
       "       'boumhal', 'bouselem', 'bradeaa', 'carthage', 'charben', 'chbika',\n",
       "       'chebba', 'chrarda', 'dahmeni', 'dakach', 'dar chaaben fehri',\n",
       "       'dhahbya', 'douar hicher', 'douz', 'ein drahem', 'fahs', 'fariena',\n",
       "       'farnena', 'fawar', 'fouchena', 'fousena', 'gaafour', 'gafsa nord',\n",
       "       'gafsa sud', 'ghanouch', 'ghar dimaa', 'ghar lmelh', 'ghazela',\n",
       "       'ghbeli nord', 'ghriba', 'gubeli sud', 'hafouz', 'halk lwed',\n",
       "       'hamem chatt', 'hamem lanf', 'hammamet', 'hammem sousse',\n",
       "       'hawarya', 'hay gazela', 'hay l khadhra', 'hay tadhamen', 'hazwa',\n",
       "       'hejeb laayoun', 'hemma jrid', 'hemma ouest', 'hencha', 'hergla',\n",
       "       'hesi farid', 'hichrya', 'hrayrya', 'jam', 'jandouba nord',\n",
       "       'jandouba sud', 'jarzouna', 'jawharet sousse', 'jbal jloud',\n",
       "       'jbenyena', 'jdalyen', 'jelma', 'jerba', 'jersis', 'joumin',\n",
       "       'jrisa', 'kabarya', 'kabes lemdina', 'kabes ouest', 'kabes sud',\n",
       "       'kalaa khasba', 'kalaa kobra', 'kalaa soghra', 'kaleat andalos',\n",
       "       'kalet snan', 'karkna', 'kasr', 'kasr hlel', 'kasra',\n",
       "       'kasserine nord', 'kasserine sud', 'ked ouest', 'kef west',\n",
       "       'kelibia', 'kendar', 'kerouon nord', 'kerouon sud', 'korba',\n",
       "       'kousour', 'kousour sef', 'kram', 'ksar hlel', 'l mida', 'lemdina',\n",
       "       'madina l jadida', 'mahdia', 'makther', 'manouba', 'manzah6',\n",
       "       'manzel bou zalfa', 'manzel bourguiba', 'manzel hbib',\n",
       "       'manzel jamil', 'manzel tmim', 'mareth', 'marsa', 'mater',\n",
       "       'matmata', 'mdhila', 'mednin nord', 'mednin sud', 'mehres',\n",
       "       'meknesi', 'mestir', 'metlawi', 'metwya', 'mhamdya', 'mjez l beb',\n",
       "       'mnihla', 'mogrin', 'moknin', 'mornagya', 'morneg', 'mourouj',\n",
       "       'mzouna', 'nabeul', 'nabr', 'nadhour', 'nafra', 'nafta',\n",
       "       'nasrallah', 'nfidha', 'omrane', 'omrane l aala', 'other', 'outik',\n",
       "       'rades', 'ras jbal', 'rdif', 'rgueb', 'rjim maatoug', 'rmeda',\n",
       "       'rouad', 'rouhya', 'sabela', 'sajnan', 'sakeyet sidi yousef',\n",
       "       'sakyet deyer', 'sakyet zit', 'sawaf', 'sbiba', 'sbikha', 'sbitla',\n",
       "       'sehlin', 'seliena nord', 'seliena sud', 'sers', 'sfax lemdina',\n",
       "       'sfax ouest', 'sfax sud', 'sidi ali ben oun', 'sidi bachir',\n",
       "       'sidi bou zid west', 'sidi boubakr', 'sidi hani', 'sidi hsin',\n",
       "       'sidi makhlouf', 'sidi olwen', 'sidi thebet', 'siida', 'sijoumi',\n",
       "       'skhira', 'slimen', 'smar', 'sokra', 'souk jdid', 'souk lahad',\n",
       "       'sousse lemdina', 'sousse riadh', 'sousse sidi aabd lahmid',\n",
       "       'swasi', 'tabarka', 'tahrir', 'takelsa', 'tamghza', 'tastour',\n",
       "       'tataouin nord', 'tataouin sud', 'tbolba', 'tborba', 'tejrouin',\n",
       "       'tela', 'tibar', 'tina', 'tinja', 'touzeur', 'twirf', 'wardya',\n",
       "       'wed lil', 'wedi mliz', 'weslatya', 'zaghwen', 'zahra', 'zanouch',\n",
       "       'zidi bou zid ouest', 'zouhour', 'zouhour gasserine', 'zriba'],\n",
       "      dtype=object)"
      ]
     },
     "execution_count": 296,
     "metadata": {},
     "output_type": "execute_result"
    }
   ],
   "source": [
    "df11=df10.copy()\n",
    "df11=df10.drop(['price_mDT_per_m2'],axis='columns')\n",
    "#df11['location']=df11['location'].str.upper()\n",
    "df11['location'] = df11['location'].replace({\n",
    "    'DEVARACHIKKANAHALLI':'Lac2'\n",
    "})\n",
    "df11.location.unique()\n"
   ]
  },
  {
   "cell_type": "code",
   "execution_count": 297,
   "id": "d0675e56",
   "metadata": {},
   "outputs": [
    {
     "data": {
      "text/html": [
       "<div>\n",
       "<style scoped>\n",
       "    .dataframe tbody tr th:only-of-type {\n",
       "        vertical-align: middle;\n",
       "    }\n",
       "\n",
       "    .dataframe tbody tr th {\n",
       "        vertical-align: top;\n",
       "    }\n",
       "\n",
       "    .dataframe thead th {\n",
       "        text-align: right;\n",
       "    }\n",
       "</style>\n",
       "<table border=\"1\" class=\"dataframe\">\n",
       "  <thead>\n",
       "    <tr style=\"text-align: right;\">\n",
       "      <th></th>\n",
       "      <th>Lac2</th>\n",
       "      <th>aala</th>\n",
       "      <th>aalia</th>\n",
       "      <th>aamdoun</th>\n",
       "      <th>aamra</th>\n",
       "      <th>aarousa</th>\n",
       "      <th>akareb</th>\n",
       "      <th>akouda</th>\n",
       "      <th>ariana lemdina</th>\n",
       "      <th>ariana soghra</th>\n",
       "      <th>...</th>\n",
       "      <th>wed lil</th>\n",
       "      <th>wedi mliz</th>\n",
       "      <th>weslatya</th>\n",
       "      <th>zaghwen</th>\n",
       "      <th>zahra</th>\n",
       "      <th>zanouch</th>\n",
       "      <th>zidi bou zid ouest</th>\n",
       "      <th>zouhour</th>\n",
       "      <th>zouhour gasserine</th>\n",
       "      <th>zriba</th>\n",
       "    </tr>\n",
       "  </thead>\n",
       "  <tbody>\n",
       "    <tr>\n",
       "      <th>1</th>\n",
       "      <td>1</td>\n",
       "      <td>0</td>\n",
       "      <td>0</td>\n",
       "      <td>0</td>\n",
       "      <td>0</td>\n",
       "      <td>0</td>\n",
       "      <td>0</td>\n",
       "      <td>0</td>\n",
       "      <td>0</td>\n",
       "      <td>0</td>\n",
       "      <td>...</td>\n",
       "      <td>0</td>\n",
       "      <td>0</td>\n",
       "      <td>0</td>\n",
       "      <td>0</td>\n",
       "      <td>0</td>\n",
       "      <td>0</td>\n",
       "      <td>0</td>\n",
       "      <td>0</td>\n",
       "      <td>0</td>\n",
       "      <td>0</td>\n",
       "    </tr>\n",
       "    <tr>\n",
       "      <th>2</th>\n",
       "      <td>1</td>\n",
       "      <td>0</td>\n",
       "      <td>0</td>\n",
       "      <td>0</td>\n",
       "      <td>0</td>\n",
       "      <td>0</td>\n",
       "      <td>0</td>\n",
       "      <td>0</td>\n",
       "      <td>0</td>\n",
       "      <td>0</td>\n",
       "      <td>...</td>\n",
       "      <td>0</td>\n",
       "      <td>0</td>\n",
       "      <td>0</td>\n",
       "      <td>0</td>\n",
       "      <td>0</td>\n",
       "      <td>0</td>\n",
       "      <td>0</td>\n",
       "      <td>0</td>\n",
       "      <td>0</td>\n",
       "      <td>0</td>\n",
       "    </tr>\n",
       "    <tr>\n",
       "      <th>3</th>\n",
       "      <td>1</td>\n",
       "      <td>0</td>\n",
       "      <td>0</td>\n",
       "      <td>0</td>\n",
       "      <td>0</td>\n",
       "      <td>0</td>\n",
       "      <td>0</td>\n",
       "      <td>0</td>\n",
       "      <td>0</td>\n",
       "      <td>0</td>\n",
       "      <td>...</td>\n",
       "      <td>0</td>\n",
       "      <td>0</td>\n",
       "      <td>0</td>\n",
       "      <td>0</td>\n",
       "      <td>0</td>\n",
       "      <td>0</td>\n",
       "      <td>0</td>\n",
       "      <td>0</td>\n",
       "      <td>0</td>\n",
       "      <td>0</td>\n",
       "    </tr>\n",
       "  </tbody>\n",
       "</table>\n",
       "<p>3 rows × 239 columns</p>\n",
       "</div>"
      ],
      "text/plain": [
       "   Lac2  aala  aalia  aamdoun  aamra  aarousa  akareb  akouda  ariana lemdina  \\\n",
       "1     1     0      0        0      0        0       0       0               0   \n",
       "2     1     0      0        0      0        0       0       0               0   \n",
       "3     1     0      0        0      0        0       0       0               0   \n",
       "\n",
       "   ariana soghra  ...  wed lil  wedi mliz  weslatya  zaghwen  zahra  zanouch  \\\n",
       "1              0  ...        0          0         0        0      0        0   \n",
       "2              0  ...        0          0         0        0      0        0   \n",
       "3              0  ...        0          0         0        0      0        0   \n",
       "\n",
       "   zidi bou zid ouest  zouhour  zouhour gasserine  zriba  \n",
       "1                   0        0                  0      0  \n",
       "2                   0        0                  0      0  \n",
       "3                   0        0                  0      0  \n",
       "\n",
       "[3 rows x 239 columns]"
      ]
     },
     "execution_count": 297,
     "metadata": {},
     "output_type": "execute_result"
    }
   ],
   "source": [
    "#model building\n",
    "#in a model regression training the content of columns should be numerical.so we have to transform the location column values  into numerical values\n",
    "dummies=pd.get_dummies(df11.location)\n",
    "dummies = dummies.astype(int)\n",
    "dummies.head(3)"
   ]
  },
  {
   "cell_type": "code",
   "execution_count": 299,
   "id": "7036a102",
   "metadata": {},
   "outputs": [
    {
     "data": {
      "text/html": [
       "<div>\n",
       "<style scoped>\n",
       "    .dataframe tbody tr th:only-of-type {\n",
       "        vertical-align: middle;\n",
       "    }\n",
       "\n",
       "    .dataframe tbody tr th {\n",
       "        vertical-align: top;\n",
       "    }\n",
       "\n",
       "    .dataframe thead th {\n",
       "        text-align: right;\n",
       "    }\n",
       "</style>\n",
       "<table border=\"1\" class=\"dataframe\">\n",
       "  <thead>\n",
       "    <tr style=\"text-align: right;\">\n",
       "      <th></th>\n",
       "      <th>location</th>\n",
       "      <th>size</th>\n",
       "      <th>bath</th>\n",
       "      <th>total_m2</th>\n",
       "      <th>price_mDT</th>\n",
       "      <th>BHK</th>\n",
       "      <th>Lac2</th>\n",
       "      <th>aala</th>\n",
       "      <th>aalia</th>\n",
       "      <th>aamdoun</th>\n",
       "      <th>...</th>\n",
       "      <th>wed lil</th>\n",
       "      <th>wedi mliz</th>\n",
       "      <th>weslatya</th>\n",
       "      <th>zaghwen</th>\n",
       "      <th>zahra</th>\n",
       "      <th>zanouch</th>\n",
       "      <th>zidi bou zid ouest</th>\n",
       "      <th>zouhour</th>\n",
       "      <th>zouhour gasserine</th>\n",
       "      <th>zriba</th>\n",
       "    </tr>\n",
       "  </thead>\n",
       "  <tbody>\n",
       "    <tr>\n",
       "      <th>1</th>\n",
       "      <td>Lac2</td>\n",
       "      <td>2 BHK</td>\n",
       "      <td>2.0</td>\n",
       "      <td>116.125</td>\n",
       "      <td>431.113902</td>\n",
       "      <td>2</td>\n",
       "      <td>1</td>\n",
       "      <td>0</td>\n",
       "      <td>0</td>\n",
       "      <td>0</td>\n",
       "      <td>...</td>\n",
       "      <td>0</td>\n",
       "      <td>0</td>\n",
       "      <td>0</td>\n",
       "      <td>0</td>\n",
       "      <td>0</td>\n",
       "      <td>0</td>\n",
       "      <td>0</td>\n",
       "      <td>0</td>\n",
       "      <td>0</td>\n",
       "      <td>0</td>\n",
       "    </tr>\n",
       "    <tr>\n",
       "      <th>2</th>\n",
       "      <td>Lac2</td>\n",
       "      <td>2 Bedroom</td>\n",
       "      <td>2.0</td>\n",
       "      <td>111.480</td>\n",
       "      <td>894.561346</td>\n",
       "      <td>2</td>\n",
       "      <td>1</td>\n",
       "      <td>0</td>\n",
       "      <td>0</td>\n",
       "      <td>0</td>\n",
       "      <td>...</td>\n",
       "      <td>0</td>\n",
       "      <td>0</td>\n",
       "      <td>0</td>\n",
       "      <td>0</td>\n",
       "      <td>0</td>\n",
       "      <td>0</td>\n",
       "      <td>0</td>\n",
       "      <td>0</td>\n",
       "      <td>0</td>\n",
       "      <td>0</td>\n",
       "    </tr>\n",
       "    <tr>\n",
       "      <th>3</th>\n",
       "      <td>Lac2</td>\n",
       "      <td>2 BHK</td>\n",
       "      <td>2.0</td>\n",
       "      <td>108.693</td>\n",
       "      <td>431.113902</td>\n",
       "      <td>2</td>\n",
       "      <td>1</td>\n",
       "      <td>0</td>\n",
       "      <td>0</td>\n",
       "      <td>0</td>\n",
       "      <td>...</td>\n",
       "      <td>0</td>\n",
       "      <td>0</td>\n",
       "      <td>0</td>\n",
       "      <td>0</td>\n",
       "      <td>0</td>\n",
       "      <td>0</td>\n",
       "      <td>0</td>\n",
       "      <td>0</td>\n",
       "      <td>0</td>\n",
       "      <td>0</td>\n",
       "    </tr>\n",
       "  </tbody>\n",
       "</table>\n",
       "<p>3 rows × 244 columns</p>\n",
       "</div>"
      ],
      "text/plain": [
       "  location       size  bath  total_m2   price_mDT  BHK  Lac2  aala  aalia  \\\n",
       "1     Lac2      2 BHK   2.0   116.125  431.113902    2     1     0      0   \n",
       "2     Lac2  2 Bedroom   2.0   111.480  894.561346    2     1     0      0   \n",
       "3     Lac2      2 BHK   2.0   108.693  431.113902    2     1     0      0   \n",
       "\n",
       "   aamdoun  ...  wed lil  wedi mliz  weslatya  zaghwen  zahra  zanouch  \\\n",
       "1        0  ...        0          0         0        0      0        0   \n",
       "2        0  ...        0          0         0        0      0        0   \n",
       "3        0  ...        0          0         0        0      0        0   \n",
       "\n",
       "   zidi bou zid ouest  zouhour  zouhour gasserine  zriba  \n",
       "1                   0        0                  0      0  \n",
       "2                   0        0                  0      0  \n",
       "3                   0        0                  0      0  \n",
       "\n",
       "[3 rows x 244 columns]"
      ]
     },
     "execution_count": 299,
     "metadata": {},
     "output_type": "execute_result"
    }
   ],
   "source": [
    "df12=pd.concat([df11,dummies.drop('other',axis='columns')],axis='columns')\n",
    "df12.head(3)"
   ]
  },
  {
   "cell_type": "code",
   "execution_count": 300,
   "id": "120f1d71",
   "metadata": {},
   "outputs": [
    {
     "data": {
      "text/html": [
       "<div>\n",
       "<style scoped>\n",
       "    .dataframe tbody tr th:only-of-type {\n",
       "        vertical-align: middle;\n",
       "    }\n",
       "\n",
       "    .dataframe tbody tr th {\n",
       "        vertical-align: top;\n",
       "    }\n",
       "\n",
       "    .dataframe thead th {\n",
       "        text-align: right;\n",
       "    }\n",
       "</style>\n",
       "<table border=\"1\" class=\"dataframe\">\n",
       "  <thead>\n",
       "    <tr style=\"text-align: right;\">\n",
       "      <th></th>\n",
       "      <th>location</th>\n",
       "      <th>size</th>\n",
       "      <th>bath</th>\n",
       "      <th>total_m2</th>\n",
       "      <th>price_mDT</th>\n",
       "      <th>BHK</th>\n",
       "      <th>Lac2</th>\n",
       "      <th>aala</th>\n",
       "      <th>aalia</th>\n",
       "      <th>aamdoun</th>\n",
       "      <th>...</th>\n",
       "      <th>wed lil</th>\n",
       "      <th>wedi mliz</th>\n",
       "      <th>weslatya</th>\n",
       "      <th>zaghwen</th>\n",
       "      <th>zahra</th>\n",
       "      <th>zanouch</th>\n",
       "      <th>zidi bou zid ouest</th>\n",
       "      <th>zouhour</th>\n",
       "      <th>zouhour gasserine</th>\n",
       "      <th>zriba</th>\n",
       "    </tr>\n",
       "  </thead>\n",
       "  <tbody>\n",
       "    <tr>\n",
       "      <th>1</th>\n",
       "      <td>Lac2</td>\n",
       "      <td>2 BHK</td>\n",
       "      <td>2.0</td>\n",
       "      <td>116.125</td>\n",
       "      <td>431.113902</td>\n",
       "      <td>2</td>\n",
       "      <td>1</td>\n",
       "      <td>0</td>\n",
       "      <td>0</td>\n",
       "      <td>0</td>\n",
       "      <td>...</td>\n",
       "      <td>0</td>\n",
       "      <td>0</td>\n",
       "      <td>0</td>\n",
       "      <td>0</td>\n",
       "      <td>0</td>\n",
       "      <td>0</td>\n",
       "      <td>0</td>\n",
       "      <td>0</td>\n",
       "      <td>0</td>\n",
       "      <td>0</td>\n",
       "    </tr>\n",
       "    <tr>\n",
       "      <th>2</th>\n",
       "      <td>Lac2</td>\n",
       "      <td>2 Bedroom</td>\n",
       "      <td>2.0</td>\n",
       "      <td>111.480</td>\n",
       "      <td>894.561346</td>\n",
       "      <td>2</td>\n",
       "      <td>1</td>\n",
       "      <td>0</td>\n",
       "      <td>0</td>\n",
       "      <td>0</td>\n",
       "      <td>...</td>\n",
       "      <td>0</td>\n",
       "      <td>0</td>\n",
       "      <td>0</td>\n",
       "      <td>0</td>\n",
       "      <td>0</td>\n",
       "      <td>0</td>\n",
       "      <td>0</td>\n",
       "      <td>0</td>\n",
       "      <td>0</td>\n",
       "      <td>0</td>\n",
       "    </tr>\n",
       "    <tr>\n",
       "      <th>3</th>\n",
       "      <td>Lac2</td>\n",
       "      <td>2 BHK</td>\n",
       "      <td>2.0</td>\n",
       "      <td>108.693</td>\n",
       "      <td>431.113902</td>\n",
       "      <td>2</td>\n",
       "      <td>1</td>\n",
       "      <td>0</td>\n",
       "      <td>0</td>\n",
       "      <td>0</td>\n",
       "      <td>...</td>\n",
       "      <td>0</td>\n",
       "      <td>0</td>\n",
       "      <td>0</td>\n",
       "      <td>0</td>\n",
       "      <td>0</td>\n",
       "      <td>0</td>\n",
       "      <td>0</td>\n",
       "      <td>0</td>\n",
       "      <td>0</td>\n",
       "      <td>0</td>\n",
       "    </tr>\n",
       "  </tbody>\n",
       "</table>\n",
       "<p>3 rows × 244 columns</p>\n",
       "</div>"
      ],
      "text/plain": [
       "  location       size  bath  total_m2   price_mDT  BHK  Lac2  aala  aalia  \\\n",
       "1     Lac2      2 BHK   2.0   116.125  431.113902    2     1     0      0   \n",
       "2     Lac2  2 Bedroom   2.0   111.480  894.561346    2     1     0      0   \n",
       "3     Lac2      2 BHK   2.0   108.693  431.113902    2     1     0      0   \n",
       "\n",
       "   aamdoun  ...  wed lil  wedi mliz  weslatya  zaghwen  zahra  zanouch  \\\n",
       "1        0  ...        0          0         0        0      0        0   \n",
       "2        0  ...        0          0         0        0      0        0   \n",
       "3        0  ...        0          0         0        0      0        0   \n",
       "\n",
       "   zidi bou zid ouest  zouhour  zouhour gasserine  zriba  \n",
       "1                   0        0                  0      0  \n",
       "2                   0        0                  0      0  \n",
       "3                   0        0                  0      0  \n",
       "\n",
       "[3 rows x 244 columns]"
      ]
     },
     "execution_count": 300,
     "metadata": {},
     "output_type": "execute_result"
    }
   ],
   "source": [
    "df12.head(3)"
   ]
  },
  {
   "cell_type": "code",
   "execution_count": 301,
   "id": "c2bad7e5",
   "metadata": {},
   "outputs": [
    {
     "data": {
      "text/html": [
       "<div>\n",
       "<style scoped>\n",
       "    .dataframe tbody tr th:only-of-type {\n",
       "        vertical-align: middle;\n",
       "    }\n",
       "\n",
       "    .dataframe tbody tr th {\n",
       "        vertical-align: top;\n",
       "    }\n",
       "\n",
       "    .dataframe thead th {\n",
       "        text-align: right;\n",
       "    }\n",
       "</style>\n",
       "<table border=\"1\" class=\"dataframe\">\n",
       "  <thead>\n",
       "    <tr style=\"text-align: right;\">\n",
       "      <th></th>\n",
       "      <th>size</th>\n",
       "      <th>bath</th>\n",
       "      <th>total_m2</th>\n",
       "      <th>price_mDT</th>\n",
       "      <th>BHK</th>\n",
       "      <th>Lac2</th>\n",
       "      <th>aala</th>\n",
       "      <th>aalia</th>\n",
       "      <th>aamdoun</th>\n",
       "      <th>aamra</th>\n",
       "      <th>...</th>\n",
       "      <th>wed lil</th>\n",
       "      <th>wedi mliz</th>\n",
       "      <th>weslatya</th>\n",
       "      <th>zaghwen</th>\n",
       "      <th>zahra</th>\n",
       "      <th>zanouch</th>\n",
       "      <th>zidi bou zid ouest</th>\n",
       "      <th>zouhour</th>\n",
       "      <th>zouhour gasserine</th>\n",
       "      <th>zriba</th>\n",
       "    </tr>\n",
       "  </thead>\n",
       "  <tbody>\n",
       "    <tr>\n",
       "      <th>1</th>\n",
       "      <td>2 BHK</td>\n",
       "      <td>2.0</td>\n",
       "      <td>116.125</td>\n",
       "      <td>431.113902</td>\n",
       "      <td>2</td>\n",
       "      <td>1</td>\n",
       "      <td>0</td>\n",
       "      <td>0</td>\n",
       "      <td>0</td>\n",
       "      <td>0</td>\n",
       "      <td>...</td>\n",
       "      <td>0</td>\n",
       "      <td>0</td>\n",
       "      <td>0</td>\n",
       "      <td>0</td>\n",
       "      <td>0</td>\n",
       "      <td>0</td>\n",
       "      <td>0</td>\n",
       "      <td>0</td>\n",
       "      <td>0</td>\n",
       "      <td>0</td>\n",
       "    </tr>\n",
       "    <tr>\n",
       "      <th>2</th>\n",
       "      <td>2 Bedroom</td>\n",
       "      <td>2.0</td>\n",
       "      <td>111.480</td>\n",
       "      <td>894.561346</td>\n",
       "      <td>2</td>\n",
       "      <td>1</td>\n",
       "      <td>0</td>\n",
       "      <td>0</td>\n",
       "      <td>0</td>\n",
       "      <td>0</td>\n",
       "      <td>...</td>\n",
       "      <td>0</td>\n",
       "      <td>0</td>\n",
       "      <td>0</td>\n",
       "      <td>0</td>\n",
       "      <td>0</td>\n",
       "      <td>0</td>\n",
       "      <td>0</td>\n",
       "      <td>0</td>\n",
       "      <td>0</td>\n",
       "      <td>0</td>\n",
       "    </tr>\n",
       "    <tr>\n",
       "      <th>3</th>\n",
       "      <td>2 BHK</td>\n",
       "      <td>2.0</td>\n",
       "      <td>108.693</td>\n",
       "      <td>431.113902</td>\n",
       "      <td>2</td>\n",
       "      <td>1</td>\n",
       "      <td>0</td>\n",
       "      <td>0</td>\n",
       "      <td>0</td>\n",
       "      <td>0</td>\n",
       "      <td>...</td>\n",
       "      <td>0</td>\n",
       "      <td>0</td>\n",
       "      <td>0</td>\n",
       "      <td>0</td>\n",
       "      <td>0</td>\n",
       "      <td>0</td>\n",
       "      <td>0</td>\n",
       "      <td>0</td>\n",
       "      <td>0</td>\n",
       "      <td>0</td>\n",
       "    </tr>\n",
       "  </tbody>\n",
       "</table>\n",
       "<p>3 rows × 243 columns</p>\n",
       "</div>"
      ],
      "text/plain": [
       "        size  bath  total_m2   price_mDT  BHK  Lac2  aala  aalia  aamdoun  \\\n",
       "1      2 BHK   2.0   116.125  431.113902    2     1     0      0        0   \n",
       "2  2 Bedroom   2.0   111.480  894.561346    2     1     0      0        0   \n",
       "3      2 BHK   2.0   108.693  431.113902    2     1     0      0        0   \n",
       "\n",
       "   aamra  ...  wed lil  wedi mliz  weslatya  zaghwen  zahra  zanouch  \\\n",
       "1      0  ...        0          0         0        0      0        0   \n",
       "2      0  ...        0          0         0        0      0        0   \n",
       "3      0  ...        0          0         0        0      0        0   \n",
       "\n",
       "   zidi bou zid ouest  zouhour  zouhour gasserine  zriba  \n",
       "1                   0        0                  0      0  \n",
       "2                   0        0                  0      0  \n",
       "3                   0        0                  0      0  \n",
       "\n",
       "[3 rows x 243 columns]"
      ]
     },
     "execution_count": 301,
     "metadata": {},
     "output_type": "execute_result"
    }
   ],
   "source": [
    "df13=df12.copy()\n",
    "df13=df12.drop(['location'],axis='columns')\n",
    "df13.head(3)"
   ]
  },
  {
   "cell_type": "code",
   "execution_count": 302,
   "id": "568acc84",
   "metadata": {},
   "outputs": [
    {
     "data": {
      "text/plain": [
       "(7084, 244)"
      ]
     },
     "execution_count": 302,
     "metadata": {},
     "output_type": "execute_result"
    }
   ],
   "source": [
    "df12.shape"
   ]
  },
  {
   "cell_type": "code",
   "execution_count": 309,
   "id": "9f61591b",
   "metadata": {},
   "outputs": [
    {
     "data": {
      "text/html": [
       "<div>\n",
       "<style scoped>\n",
       "    .dataframe tbody tr th:only-of-type {\n",
       "        vertical-align: middle;\n",
       "    }\n",
       "\n",
       "    .dataframe tbody tr th {\n",
       "        vertical-align: top;\n",
       "    }\n",
       "\n",
       "    .dataframe thead th {\n",
       "        text-align: right;\n",
       "    }\n",
       "</style>\n",
       "<table border=\"1\" class=\"dataframe\">\n",
       "  <thead>\n",
       "    <tr style=\"text-align: right;\">\n",
       "      <th></th>\n",
       "      <th>bath</th>\n",
       "      <th>total_m2</th>\n",
       "      <th>BHK</th>\n",
       "      <th>Lac2</th>\n",
       "      <th>aala</th>\n",
       "      <th>aalia</th>\n",
       "      <th>aamdoun</th>\n",
       "      <th>aamra</th>\n",
       "      <th>aarousa</th>\n",
       "      <th>akareb</th>\n",
       "      <th>...</th>\n",
       "      <th>wed lil</th>\n",
       "      <th>wedi mliz</th>\n",
       "      <th>weslatya</th>\n",
       "      <th>zaghwen</th>\n",
       "      <th>zahra</th>\n",
       "      <th>zanouch</th>\n",
       "      <th>zidi bou zid ouest</th>\n",
       "      <th>zouhour</th>\n",
       "      <th>zouhour gasserine</th>\n",
       "      <th>zriba</th>\n",
       "    </tr>\n",
       "  </thead>\n",
       "  <tbody>\n",
       "    <tr>\n",
       "      <th>1</th>\n",
       "      <td>2.0</td>\n",
       "      <td>116.1250</td>\n",
       "      <td>2</td>\n",
       "      <td>1</td>\n",
       "      <td>0</td>\n",
       "      <td>0</td>\n",
       "      <td>0</td>\n",
       "      <td>0</td>\n",
       "      <td>0</td>\n",
       "      <td>0</td>\n",
       "      <td>...</td>\n",
       "      <td>0</td>\n",
       "      <td>0</td>\n",
       "      <td>0</td>\n",
       "      <td>0</td>\n",
       "      <td>0</td>\n",
       "      <td>0</td>\n",
       "      <td>0</td>\n",
       "      <td>0</td>\n",
       "      <td>0</td>\n",
       "      <td>0</td>\n",
       "    </tr>\n",
       "    <tr>\n",
       "      <th>2</th>\n",
       "      <td>2.0</td>\n",
       "      <td>111.4800</td>\n",
       "      <td>2</td>\n",
       "      <td>1</td>\n",
       "      <td>0</td>\n",
       "      <td>0</td>\n",
       "      <td>0</td>\n",
       "      <td>0</td>\n",
       "      <td>0</td>\n",
       "      <td>0</td>\n",
       "      <td>...</td>\n",
       "      <td>0</td>\n",
       "      <td>0</td>\n",
       "      <td>0</td>\n",
       "      <td>0</td>\n",
       "      <td>0</td>\n",
       "      <td>0</td>\n",
       "      <td>0</td>\n",
       "      <td>0</td>\n",
       "      <td>0</td>\n",
       "      <td>0</td>\n",
       "    </tr>\n",
       "    <tr>\n",
       "      <th>3</th>\n",
       "      <td>2.0</td>\n",
       "      <td>108.6930</td>\n",
       "      <td>2</td>\n",
       "      <td>1</td>\n",
       "      <td>0</td>\n",
       "      <td>0</td>\n",
       "      <td>0</td>\n",
       "      <td>0</td>\n",
       "      <td>0</td>\n",
       "      <td>0</td>\n",
       "      <td>...</td>\n",
       "      <td>0</td>\n",
       "      <td>0</td>\n",
       "      <td>0</td>\n",
       "      <td>0</td>\n",
       "      <td>0</td>\n",
       "      <td>0</td>\n",
       "      <td>0</td>\n",
       "      <td>0</td>\n",
       "      <td>0</td>\n",
       "      <td>0</td>\n",
       "    </tr>\n",
       "    <tr>\n",
       "      <th>4</th>\n",
       "      <td>2.0</td>\n",
       "      <td>132.3825</td>\n",
       "      <td>3</td>\n",
       "      <td>1</td>\n",
       "      <td>0</td>\n",
       "      <td>0</td>\n",
       "      <td>0</td>\n",
       "      <td>0</td>\n",
       "      <td>0</td>\n",
       "      <td>0</td>\n",
       "      <td>...</td>\n",
       "      <td>0</td>\n",
       "      <td>0</td>\n",
       "      <td>0</td>\n",
       "      <td>0</td>\n",
       "      <td>0</td>\n",
       "      <td>0</td>\n",
       "      <td>0</td>\n",
       "      <td>0</td>\n",
       "      <td>0</td>\n",
       "      <td>0</td>\n",
       "    </tr>\n",
       "    <tr>\n",
       "      <th>5</th>\n",
       "      <td>2.0</td>\n",
       "      <td>87.9763</td>\n",
       "      <td>2</td>\n",
       "      <td>1</td>\n",
       "      <td>0</td>\n",
       "      <td>0</td>\n",
       "      <td>0</td>\n",
       "      <td>0</td>\n",
       "      <td>0</td>\n",
       "      <td>0</td>\n",
       "      <td>...</td>\n",
       "      <td>0</td>\n",
       "      <td>0</td>\n",
       "      <td>0</td>\n",
       "      <td>0</td>\n",
       "      <td>0</td>\n",
       "      <td>0</td>\n",
       "      <td>0</td>\n",
       "      <td>0</td>\n",
       "      <td>0</td>\n",
       "      <td>0</td>\n",
       "    </tr>\n",
       "  </tbody>\n",
       "</table>\n",
       "<p>5 rows × 241 columns</p>\n",
       "</div>"
      ],
      "text/plain": [
       "   bath  total_m2  BHK  Lac2  aala  aalia  aamdoun  aamra  aarousa  akareb  \\\n",
       "1   2.0  116.1250    2     1     0      0        0      0        0       0   \n",
       "2   2.0  111.4800    2     1     0      0        0      0        0       0   \n",
       "3   2.0  108.6930    2     1     0      0        0      0        0       0   \n",
       "4   2.0  132.3825    3     1     0      0        0      0        0       0   \n",
       "5   2.0   87.9763    2     1     0      0        0      0        0       0   \n",
       "\n",
       "   ...  wed lil  wedi mliz  weslatya  zaghwen  zahra  zanouch  \\\n",
       "1  ...        0          0         0        0      0        0   \n",
       "2  ...        0          0         0        0      0        0   \n",
       "3  ...        0          0         0        0      0        0   \n",
       "4  ...        0          0         0        0      0        0   \n",
       "5  ...        0          0         0        0      0        0   \n",
       "\n",
       "   zidi bou zid ouest  zouhour  zouhour gasserine  zriba  \n",
       "1                   0        0                  0      0  \n",
       "2                   0        0                  0      0  \n",
       "3                   0        0                  0      0  \n",
       "4                   0        0                  0      0  \n",
       "5                   0        0                  0      0  \n",
       "\n",
       "[5 rows x 241 columns]"
      ]
     },
     "execution_count": 309,
     "metadata": {},
     "output_type": "execute_result"
    }
   ],
   "source": [
    "#prepare the x and y for model training\n",
    "X=df13.drop(['price_mDT','size'],axis='columns')\n",
    "X.head()"
   ]
  },
  {
   "cell_type": "code",
   "execution_count": 310,
   "id": "d100309b",
   "metadata": {},
   "outputs": [
    {
     "data": {
      "text/plain": [
       "1    431.113902\n",
       "2    894.561346\n",
       "3    431.113902\n",
       "4    700.560090\n",
       "5    463.447444\n",
       "Name: price_mDT, dtype: float64"
      ]
     },
     "execution_count": 310,
     "metadata": {},
     "output_type": "execute_result"
    }
   ],
   "source": [
    "y=df13.price_mDT\n",
    "y.head()"
   ]
  },
  {
   "cell_type": "code",
   "execution_count": 311,
   "id": "67861316",
   "metadata": {},
   "outputs": [],
   "source": [
    "#training and testing process\n",
    "#20% of dataset for model testing\n",
    "#80% of dataset for model training\n",
    "from sklearn.model_selection import train_test_split\n",
    "X_train,X_test,y_train,y_test=train_test_split(X,y,test_size=0.2,random_state=10)"
   ]
  },
  {
   "cell_type": "code",
   "execution_count": 322,
   "id": "9ed12fb4",
   "metadata": {},
   "outputs": [
    {
     "data": {
      "text/plain": [
       "0.80169944337568"
      ]
     },
     "execution_count": 322,
     "metadata": {},
     "output_type": "execute_result"
    }
   ],
   "source": [
    "from sklearn.linear_model import LinearRegression\n",
    "lr_clf=LinearRegression()\n",
    "lr_clf.fit(X_train,y_train)\n",
    "lr_clf.score(X_test,y_test)"
   ]
  },
  {
   "cell_type": "code",
   "execution_count": 314,
   "id": "0693d495",
   "metadata": {},
   "outputs": [
    {
     "data": {
      "text/plain": [
       "array([0.84663158, 0.80307654, 0.85252373, 0.81587121, 0.84615315])"
      ]
     },
     "execution_count": 314,
     "metadata": {},
     "output_type": "execute_result"
    }
   ],
   "source": [
    "#we will use a k-fold cross validation to mesure accuracy and to obtain the best optimal model\n",
    "from sklearn.model_selection import ShuffleSplit\n",
    "from sklearn.model_selection import cross_val_score\n",
    "\n",
    "cv = ShuffleSplit(n_splits=5, test_size=0.2, random_state=0)\n",
    "\n",
    "cross_val_score(LinearRegression(), X, y, cv=cv)"
   ]
  },
  {
   "cell_type": "code",
   "execution_count": 315,
   "id": "1c60be4c",
   "metadata": {},
   "outputs": [
    {
     "name": "stderr",
     "output_type": "stream",
     "text": [
      "D:\\anc\\Lib\\site-packages\\sklearn\\model_selection\\_validation.py:425: FitFailedWarning: \n",
      "10 fits failed out of a total of 20.\n",
      "The score on these train-test partitions for these parameters will be set to nan.\n",
      "If these failures are not expected, you can try to debug them by setting error_score='raise'.\n",
      "\n",
      "Below are more details about the failures:\n",
      "--------------------------------------------------------------------------------\n",
      "10 fits failed with the following error:\n",
      "Traceback (most recent call last):\n",
      "  File \"D:\\anc\\Lib\\site-packages\\sklearn\\model_selection\\_validation.py\", line 732, in _fit_and_score\n",
      "    estimator.fit(X_train, y_train, **fit_params)\n",
      "  File \"D:\\anc\\Lib\\site-packages\\sklearn\\base.py\", line 1144, in wrapper\n",
      "    estimator._validate_params()\n",
      "  File \"D:\\anc\\Lib\\site-packages\\sklearn\\base.py\", line 637, in _validate_params\n",
      "    validate_parameter_constraints(\n",
      "  File \"D:\\anc\\Lib\\site-packages\\sklearn\\utils\\_param_validation.py\", line 95, in validate_parameter_constraints\n",
      "    raise InvalidParameterError(\n",
      "sklearn.utils._param_validation.InvalidParameterError: The 'criterion' parameter of DecisionTreeRegressor must be a str among {'friedman_mse', 'squared_error', 'poisson', 'absolute_error'}. Got 'mse' instead.\n",
      "\n",
      "  warnings.warn(some_fits_failed_message, FitFailedWarning)\n",
      "D:\\anc\\Lib\\site-packages\\sklearn\\model_selection\\_search.py:976: UserWarning: One or more of the test scores are non-finite: [       nan        nan 0.7386034  0.72689108]\n",
      "  warnings.warn(\n"
     ]
    },
    {
     "data": {
      "text/html": [
       "<div>\n",
       "<style scoped>\n",
       "    .dataframe tbody tr th:only-of-type {\n",
       "        vertical-align: middle;\n",
       "    }\n",
       "\n",
       "    .dataframe tbody tr th {\n",
       "        vertical-align: top;\n",
       "    }\n",
       "\n",
       "    .dataframe thead th {\n",
       "        text-align: right;\n",
       "    }\n",
       "</style>\n",
       "<table border=\"1\" class=\"dataframe\">\n",
       "  <thead>\n",
       "    <tr style=\"text-align: right;\">\n",
       "      <th></th>\n",
       "      <th>model</th>\n",
       "      <th>best_score</th>\n",
       "      <th>best_params</th>\n",
       "    </tr>\n",
       "  </thead>\n",
       "  <tbody>\n",
       "    <tr>\n",
       "      <th>0</th>\n",
       "      <td>linear_regression</td>\n",
       "      <td>0.832851</td>\n",
       "      <td>{'copy_X': True}</td>\n",
       "    </tr>\n",
       "    <tr>\n",
       "      <th>1</th>\n",
       "      <td>lasso</td>\n",
       "      <td>0.786409</td>\n",
       "      <td>{'alpha': 1, 'selection': 'random'}</td>\n",
       "    </tr>\n",
       "    <tr>\n",
       "      <th>2</th>\n",
       "      <td>decision_tree</td>\n",
       "      <td>0.738603</td>\n",
       "      <td>{'criterion': 'friedman_mse', 'splitter': 'best'}</td>\n",
       "    </tr>\n",
       "  </tbody>\n",
       "</table>\n",
       "</div>"
      ],
      "text/plain": [
       "               model  best_score  \\\n",
       "0  linear_regression    0.832851   \n",
       "1              lasso    0.786409   \n",
       "2      decision_tree    0.738603   \n",
       "\n",
       "                                         best_params  \n",
       "0                                   {'copy_X': True}  \n",
       "1                {'alpha': 1, 'selection': 'random'}  \n",
       "2  {'criterion': 'friedman_mse', 'splitter': 'best'}  "
      ]
     },
     "execution_count": 315,
     "metadata": {},
     "output_type": "execute_result"
    }
   ],
   "source": [
    "#find best model using grid search\n",
    "from sklearn.model_selection import GridSearchCV\n",
    "\n",
    "from sklearn.linear_model import Lasso\n",
    "from sklearn.tree import DecisionTreeRegressor\n",
    "\n",
    "def find_best_model_using_gridsearchcv(x,y):\n",
    "    algos = {\n",
    "        'linear_regression' : {\n",
    "            'model': LinearRegression(),\n",
    "            'params': {\n",
    "                'copy_X': [True, False]\n",
    "            }\n",
    "        },\n",
    "        'lasso': {\n",
    "            'model': Lasso(),\n",
    "            'params': {\n",
    "                'alpha': [1,2],\n",
    "                'selection': ['random', 'cyclic']\n",
    "            }\n",
    "        },\n",
    "        'decision_tree': {\n",
    "            'model': DecisionTreeRegressor(),\n",
    "            'params': {\n",
    "                'criterion' : ['mse','friedman_mse'],\n",
    "                'splitter': ['best','random']\n",
    "            }\n",
    "        }\n",
    "    }\n",
    "    scores = []\n",
    "    cv = ShuffleSplit(n_splits=5, test_size=0.2, random_state=0)\n",
    "    for algo_name, config in algos.items():\n",
    "        gs =  GridSearchCV(config['model'], config['params'], cv=cv, return_train_score=False)\n",
    "        gs.fit(x,y)\n",
    "        scores.append({\n",
    "            'model': algo_name,\n",
    "            'best_score': gs.best_score_,\n",
    "            'best_params': gs.best_params_\n",
    "        })\n",
    "\n",
    "    return pd.DataFrame(scores,columns=['model','best_score','best_params'])\n",
    "\n",
    "find_best_model_using_gridsearchcv(X,y)"
   ]
  },
  {
   "cell_type": "code",
   "execution_count": 319,
   "id": "22315dba",
   "metadata": {},
   "outputs": [],
   "source": [
    "#as is shown,the linear regression is the best model\n",
    "#now we are going to test the predicted prices \n",
    "def predict_price(location, sqm2, bath, bhk):\n",
    "    if location in X.columns:\n",
    "        loc_index = np.where(X.columns == location)[0][0]\n",
    "    else:\n",
    "        print(f\"Location '{location}' not found in columns.\")\n",
    "        loc_index = -1\n",
    "\n",
    "    x = np.zeros(len(X.columns))\n",
    "    x[1] = sqm2\n",
    "    x[0] = bath\n",
    "    x[2] = bhk\n",
    "    if loc_index >= 0:\n",
    "        x[loc_index] = 1\n",
    "\n",
    "    # Convert the numpy array to a pandas DataFrame\n",
    "    x_df = pd.DataFrame([x], columns=X.columns)\n",
    "\n",
    "    return lr_clf.predict(x_df)[0]"
   ]
  },
  {
   "cell_type": "code",
   "execution_count": 320,
   "id": "0f3aacab",
   "metadata": {},
   "outputs": [
    {
     "data": {
      "text/plain": [
       "465.5562377859908"
      ]
     },
     "execution_count": 320,
     "metadata": {},
     "output_type": "execute_result"
    }
   ],
   "source": [
    "predict_price('marsa',92.9, 2, 2)"
   ]
  },
  {
   "cell_type": "code",
   "execution_count": 321,
   "id": "964e4cc0",
   "metadata": {},
   "outputs": [
    {
     "data": {
      "text/plain": [
       "483.6173199926968"
      ]
     },
     "execution_count": 321,
     "metadata": {},
     "output_type": "execute_result"
    }
   ],
   "source": [
    "predict_price('marsa',92.9, 3, 3)\n"
   ]
  },
  {
   "cell_type": "code",
   "execution_count": 896,
   "id": "833eb8e4",
   "metadata": {},
   "outputs": [],
   "source": [
    "#export the pickle file\n",
    "import pickle\n",
    "with open('tunisian_home_prices_model.pickle','wb') as f:\n",
    "    pickle.dump(lr_clf,f)"
   ]
  },
  {
   "cell_type": "code",
   "execution_count": 897,
   "id": "002780e5",
   "metadata": {},
   "outputs": [],
   "source": [
    "#export the columns informations in a json file\n",
    "import json\n",
    "columns = {\n",
    "    'data_columns' : [col.lower() for col in X.columns]\n",
    "}\n",
    "with open(\"columns.json\",\"w\") as f:\n",
    "    f.write(json.dumps(columns))"
   ]
  },
  {
   "cell_type": "code",
   "execution_count": 899,
   "id": "e9d31fe0",
   "metadata": {},
   "outputs": [
    {
     "data": {
      "text/plain": [
       "location\n",
       "Lac2                   11\n",
       "aala                   18\n",
       "aalia                  11\n",
       "aamdoun                85\n",
       "aamra                 109\n",
       "                     ... \n",
       "zanouch                11\n",
       "zidi bou zid ouest      8\n",
       "zouhour                15\n",
       "zouhour gasserine      31\n",
       "zriba                  26\n",
       "Name: location, Length: 240, dtype: int64"
      ]
     },
     "execution_count": 899,
     "metadata": {},
     "output_type": "execute_result"
    }
   ],
   "source": [
    "df12.groupby('location')['location'].agg('count')"
   ]
  },
  {
   "cell_type": "code",
   "execution_count": 901,
   "id": "723eb21e",
   "metadata": {},
   "outputs": [
    {
     "data": {
      "text/plain": [
       "240"
      ]
     },
     "execution_count": 901,
     "metadata": {},
     "output_type": "execute_result"
    }
   ],
   "source": [
    "locations_uniques = df12['location'].nunique()\n",
    "locations_uniques"
   ]
  },
  {
   "cell_type": "code",
   "execution_count": null,
   "id": "0c7f05ec",
   "metadata": {},
   "outputs": [],
   "source": []
  },
  {
   "cell_type": "code",
   "execution_count": null,
   "id": "ec9515a5",
   "metadata": {},
   "outputs": [],
   "source": []
  }
 ],
 "metadata": {
  "kernelspec": {
   "display_name": "Python 3 (ipykernel)",
   "language": "python",
   "name": "python3"
  },
  "language_info": {
   "codemirror_mode": {
    "name": "ipython",
    "version": 3
   },
   "file_extension": ".py",
   "mimetype": "text/x-python",
   "name": "python",
   "nbconvert_exporter": "python",
   "pygments_lexer": "ipython3",
   "version": "3.11.5"
  }
 },
 "nbformat": 4,
 "nbformat_minor": 5
}
